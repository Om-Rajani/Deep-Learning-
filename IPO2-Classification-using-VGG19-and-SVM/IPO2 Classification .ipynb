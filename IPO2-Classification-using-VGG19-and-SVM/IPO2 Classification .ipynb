{
 "cells": [
  {
   "cell_type": "code",
   "execution_count": 2,
   "id": "402d870f",
   "metadata": {},
   "outputs": [],
   "source": [
    "import pickle\n",
    "from tensorflow.keras.utils import to_categorical"
   ]
  },
  {
   "cell_type": "code",
   "execution_count": 3,
   "id": "ae742923",
   "metadata": {},
   "outputs": [],
   "source": [
    "x_train = pickle.load(open('x_train.pickle','rb'))\n",
    "y_train = pickle.load(open('y_train.pickle','rb'))\n",
    "x_test = pickle.load(open('x_test.pickle','rb'))\n",
    "y_test = pickle.load(open('y_test.pickle','rb'))\n",
    "x_val = pickle.load(open('x_val.pickle','rb'))\n",
    "y_val = pickle.load(open('y_val.pickle','rb'))"
   ]
  },
  {
   "cell_type": "code",
   "execution_count": 13,
   "id": "fe854424",
   "metadata": {},
   "outputs": [],
   "source": [
    "from sklearn.preprocessing import LabelEncoder"
   ]
  },
  {
   "cell_type": "code",
   "execution_count": 15,
   "id": "e359d454",
   "metadata": {},
   "outputs": [],
   "source": [
    "le = LabelEncoder()\n",
    "le.fit(y_train)\n",
    "y_train_1 = le.transform(y_train)\n",
    "\n",
    "le = LabelEncoder()\n",
    "le.fit(y_test)\n",
    "y_test_1 = le.transform(y_test)\n",
    "\n",
    "le = LabelEncoder()\n",
    "le.fit(y_val)\n",
    "y_val_1 = le.transform(y_val)"
   ]
  },
  {
   "cell_type": "markdown",
   "id": "aae14282",
   "metadata": {},
   "source": [
    "# LOADING THE MODEL"
   ]
  },
  {
   "cell_type": "code",
   "execution_count": 16,
   "id": "23ef1583",
   "metadata": {},
   "outputs": [],
   "source": [
    "from tensorflow.keras.applications import*"
   ]
  },
  {
   "cell_type": "code",
   "execution_count": 31,
   "id": "8d698af4",
   "metadata": {},
   "outputs": [],
   "source": [
    "base_model = VGG19(include_top=False,weights='imagenet',input_shape=(50,50,3))"
   ]
  },
  {
   "cell_type": "code",
   "execution_count": 32,
   "id": "028bc6ff",
   "metadata": {},
   "outputs": [],
   "source": [
    "for layers in base_model.layers:\n",
    "    layers.trainable = False\n",
    "    "
   ]
  },
  {
   "cell_type": "code",
   "execution_count": 33,
   "id": "fc0962f7",
   "metadata": {},
   "outputs": [
    {
     "name": "stdout",
     "output_type": "stream",
     "text": [
      "Model: \"vgg19\"\n",
      "_________________________________________________________________\n",
      " Layer (type)                Output Shape              Param #   \n",
      "=================================================================\n",
      " input_5 (InputLayer)        [(None, 50, 50, 3)]       0         \n",
      "                                                                 \n",
      " block1_conv1 (Conv2D)       (None, 50, 50, 64)        1792      \n",
      "                                                                 \n",
      " block1_conv2 (Conv2D)       (None, 50, 50, 64)        36928     \n",
      "                                                                 \n",
      " block1_pool (MaxPooling2D)  (None, 25, 25, 64)        0         \n",
      "                                                                 \n",
      " block2_conv1 (Conv2D)       (None, 25, 25, 128)       73856     \n",
      "                                                                 \n",
      " block2_conv2 (Conv2D)       (None, 25, 25, 128)       147584    \n",
      "                                                                 \n",
      " block2_pool (MaxPooling2D)  (None, 12, 12, 128)       0         \n",
      "                                                                 \n",
      " block3_conv1 (Conv2D)       (None, 12, 12, 256)       295168    \n",
      "                                                                 \n",
      " block3_conv2 (Conv2D)       (None, 12, 12, 256)       590080    \n",
      "                                                                 \n",
      " block3_conv3 (Conv2D)       (None, 12, 12, 256)       590080    \n",
      "                                                                 \n",
      " block3_conv4 (Conv2D)       (None, 12, 12, 256)       590080    \n",
      "                                                                 \n",
      " block3_pool (MaxPooling2D)  (None, 6, 6, 256)         0         \n",
      "                                                                 \n",
      " block4_conv1 (Conv2D)       (None, 6, 6, 512)         1180160   \n",
      "                                                                 \n",
      " block4_conv2 (Conv2D)       (None, 6, 6, 512)         2359808   \n",
      "                                                                 \n",
      " block4_conv3 (Conv2D)       (None, 6, 6, 512)         2359808   \n",
      "                                                                 \n",
      " block4_conv4 (Conv2D)       (None, 6, 6, 512)         2359808   \n",
      "                                                                 \n",
      " block4_pool (MaxPooling2D)  (None, 3, 3, 512)         0         \n",
      "                                                                 \n",
      " block5_conv1 (Conv2D)       (None, 3, 3, 512)         2359808   \n",
      "                                                                 \n",
      " block5_conv2 (Conv2D)       (None, 3, 3, 512)         2359808   \n",
      "                                                                 \n",
      " block5_conv3 (Conv2D)       (None, 3, 3, 512)         2359808   \n",
      "                                                                 \n",
      " block5_conv4 (Conv2D)       (None, 3, 3, 512)         2359808   \n",
      "                                                                 \n",
      " block5_pool (MaxPooling2D)  (None, 1, 1, 512)         0         \n",
      "                                                                 \n",
      "=================================================================\n",
      "Total params: 20,024,384\n",
      "Trainable params: 0\n",
      "Non-trainable params: 20,024,384\n",
      "_________________________________________________________________\n"
     ]
    }
   ],
   "source": [
    "base_model.summary()"
   ]
  },
  {
   "cell_type": "code",
   "execution_count": 34,
   "id": "2467f04c",
   "metadata": {},
   "outputs": [],
   "source": [
    "feature_extractor=base_model.predict(x_train)"
   ]
  },
  {
   "cell_type": "code",
   "execution_count": 35,
   "id": "b776d246",
   "metadata": {},
   "outputs": [],
   "source": [
    "features = feature_extractor.reshape(feature_extractor.shape[0],-1)"
   ]
  },
  {
   "cell_type": "code",
   "execution_count": 36,
   "id": "cfc18f75",
   "metadata": {},
   "outputs": [],
   "source": [
    "X_for_SVM = features "
   ]
  },
  {
   "cell_type": "code",
   "execution_count": 38,
   "id": "4bc32195",
   "metadata": {},
   "outputs": [],
   "source": [
    "Feature_extractor = base_model.predict(x_val)"
   ]
  },
  {
   "cell_type": "code",
   "execution_count": 39,
   "id": "8b16987d",
   "metadata": {},
   "outputs": [],
   "source": [
    "Features = Feature_extractor.reshape(Feature_extractor.shape[0],-1)"
   ]
  },
  {
   "cell_type": "code",
   "execution_count": 40,
   "id": "64a11d09",
   "metadata": {},
   "outputs": [],
   "source": [
    "X_test_for_SVM = Features"
   ]
  },
  {
   "cell_type": "markdown",
   "id": "46901bfe",
   "metadata": {},
   "source": [
    "# SVM"
   ]
  },
  {
   "cell_type": "code",
   "execution_count": 41,
   "id": "f818db65",
   "metadata": {},
   "outputs": [],
   "source": [
    "from sklearn.svm import SVC"
   ]
  },
  {
   "cell_type": "code",
   "execution_count": 42,
   "id": "47e3b5e9",
   "metadata": {},
   "outputs": [],
   "source": [
    "Classifier = SVC(kernel='rbf', random_state=2)"
   ]
  },
  {
   "cell_type": "code",
   "execution_count": 43,
   "id": "b449505a",
   "metadata": {},
   "outputs": [
    {
     "data": {
      "text/plain": [
       "SVC(random_state=2)"
      ]
     },
     "execution_count": 43,
     "metadata": {},
     "output_type": "execute_result"
    }
   ],
   "source": [
    "Classifier.fit(X_for_SVM,y_train)"
   ]
  },
  {
   "cell_type": "code",
   "execution_count": 46,
   "id": "bc5c4588",
   "metadata": {},
   "outputs": [
    {
     "ename": "NameError",
     "evalue": "name 'np' is not defined",
     "output_type": "error",
     "traceback": [
      "\u001b[1;31m---------------------------------------------------------------------------\u001b[0m",
      "\u001b[1;31mNameError\u001b[0m                                 Traceback (most recent call last)",
      "\u001b[1;32m~\\AppData\\Local\\Temp/ipykernel_11120/836084916.py\u001b[0m in \u001b[0;36m<module>\u001b[1;34m\u001b[0m\n\u001b[0;32m      1\u001b[0m \u001b[0mprediction_SVM\u001b[0m \u001b[1;33m=\u001b[0m \u001b[0mClassifier\u001b[0m\u001b[1;33m.\u001b[0m\u001b[0mpredict\u001b[0m\u001b[1;33m(\u001b[0m\u001b[0mX_test_for_SVM\u001b[0m\u001b[1;33m)\u001b[0m\u001b[1;33m\u001b[0m\u001b[1;33m\u001b[0m\u001b[0m\n\u001b[1;32m----> 2\u001b[1;33m \u001b[0mprediction_SVM\u001b[0m \u001b[1;33m=\u001b[0m \u001b[0mnp\u001b[0m\u001b[1;33m.\u001b[0m\u001b[0marray\u001b[0m\u001b[1;33m(\u001b[0m\u001b[0mprediction_SVM\u001b[0m\u001b[1;33m)\u001b[0m\u001b[1;33m.\u001b[0m\u001b[0mastype\u001b[0m\u001b[1;33m(\u001b[0m\u001b[0mint\u001b[0m\u001b[1;33m)\u001b[0m\u001b[1;33m\u001b[0m\u001b[1;33m\u001b[0m\u001b[0m\n\u001b[0m",
      "\u001b[1;31mNameError\u001b[0m: name 'np' is not defined"
     ]
    }
   ],
   "source": [
    "prediction_SVM = Classifier.predict(X_test_for_SVM)"
   ]
  },
  {
   "cell_type": "code",
   "execution_count": 47,
   "id": "7b8d3018",
   "metadata": {},
   "outputs": [],
   "source": [
    "import numpy as np\n",
    "prediction_SVM = np.array(prediction_SVM).astype(int)"
   ]
  },
  {
   "cell_type": "code",
   "execution_count": 48,
   "id": "dbd8aae9",
   "metadata": {},
   "outputs": [],
   "source": [
    "prediction_SVM = le.inverse_transform(prediction_SVM)"
   ]
  },
  {
   "cell_type": "code",
   "execution_count": 54,
   "id": "c46d172a",
   "metadata": {},
   "outputs": [
    {
     "data": {
      "text/plain": [
       "array(['68', '0', '99', ..., '68', '68', '68'], dtype='<U3')"
      ]
     },
     "execution_count": 54,
     "metadata": {},
     "output_type": "execute_result"
    }
   ],
   "source": [
    "prediction_SVM"
   ]
  },
  {
   "cell_type": "code",
   "execution_count": 49,
   "id": "278217ca",
   "metadata": {},
   "outputs": [],
   "source": [
    "le = LabelEncoder()\n",
    "le.fit(prediction_SVM)\n",
    "prediction_SVM_encoded = le.transform(prediction_SVM)"
   ]
  },
  {
   "cell_type": "code",
   "execution_count": 74,
   "id": "9e39a691",
   "metadata": {},
   "outputs": [
    {
     "data": {
      "text/plain": [
       "array([62,  0, 93, ..., 62, 62, 62])"
      ]
     },
     "execution_count": 74,
     "metadata": {},
     "output_type": "execute_result"
    }
   ],
   "source": [
    "prediction_SVM_encoded"
   ]
  },
  {
   "cell_type": "code",
   "execution_count": 77,
   "id": "5b55b568",
   "metadata": {},
   "outputs": [
    {
     "data": {
      "text/plain": [
       "array(['0', '0', '0', ..., '99', '99', '99'], dtype='<U3')"
      ]
     },
     "execution_count": 77,
     "metadata": {},
     "output_type": "execute_result"
    }
   ],
   "source": [
    "y_val"
   ]
  },
  {
   "cell_type": "code",
   "execution_count": 79,
   "id": "b61a1a07",
   "metadata": {},
   "outputs": [
    {
     "name": "stdout",
     "output_type": "stream",
     "text": [
      "Accuracy =  1.7048481619605753 %\n"
     ]
    }
   ],
   "source": [
    "from sklearn import metrics\n",
    "print (\"Accuracy = \", (metrics.accuracy_score(y_val_1, prediction_SVM_encoded))*100,'%')"
   ]
  },
  {
   "cell_type": "code",
   "execution_count": null,
   "id": "4e1c843a",
   "metadata": {},
   "outputs": [],
   "source": []
  }
 ],
 "metadata": {
  "kernelspec": {
   "display_name": "Python 3.9 (tensorflow)",
   "language": "python",
   "name": "tensorflow"
  },
  "language_info": {
   "codemirror_mode": {
    "name": "ipython",
    "version": 3
   },
   "file_extension": ".py",
   "mimetype": "text/x-python",
   "name": "python",
   "nbconvert_exporter": "python",
   "pygments_lexer": "ipython3",
   "version": "3.9.7"
  }
 },
 "nbformat": 4,
 "nbformat_minor": 5
}
