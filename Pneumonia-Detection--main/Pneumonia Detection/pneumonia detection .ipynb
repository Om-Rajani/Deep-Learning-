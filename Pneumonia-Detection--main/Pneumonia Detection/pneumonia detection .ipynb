{
 "cells": [
  {
   "cell_type": "code",
   "execution_count": 2,
   "id": "0f8bb672",
   "metadata": {},
   "outputs": [],
   "source": [
    "from tensorflow.keras.layers import Dense,Dropout,Flatten,Conv2D,MaxPooling2D\n",
    "from tensorflow.keras.models import Sequential \n",
    "from tensorflow.keras.preprocessing.image import ImageDataGenerator\n",
    "import pickle\n",
    "from tensorflow.keras.optimizers import SGD\n",
    "import tensorflow.keras.utils as ut "
   ]
  },
  {
   "cell_type": "code",
   "execution_count": 3,
   "id": "e967dcf8",
   "metadata": {},
   "outputs": [
    {
     "name": "stdout",
     "output_type": "stream",
     "text": [
      "3\n"
     ]
    }
   ],
   "source": [
    "X_train = pickle.load(open('X_train.pickle','rb'))\n",
    "y_train = pickle.load(open('y_train.pickle','rb'))\n",
    "X_test = pickle.load(open('X_test.pickle','rb'))\n",
    "y_test = pickle.load(open('y_test.pickle','rb'))\n",
    "\n",
    "y_train = ut.to_categorical(y_train, 3)\n",
    "y_test = ut.to_categorical(y_test, 3)\n",
    "num_classes = y_test.shape[1]\n",
    "print(num_classes)"
   ]
  },
  {
   "cell_type": "code",
   "execution_count": 4,
   "id": "e2f97b61",
   "metadata": {},
   "outputs": [],
   "source": [
    "def CNN_model():\n",
    "    model = Sequential()\n",
    "\n",
    "    model.add(Conv2D(32 , (3,3), input_shape = X_train.shape[1:], activation = 'relu'))\n",
    "    model.add(Dropout(0.2))\n",
    "\n",
    "    model.add(Conv2D(64 , (3,3), activation = 'relu'))\n",
    "    model.add(Dropout(0.2))\n",
    "\n",
    "    model.add(Conv2D(64 , (3,3), activation = 'relu'))\n",
    "    model.add(MaxPooling2D((2,2)))\n",
    "\n",
    "   # model.add(Conv2D(128 , (3,3), activation = 'relu'))\n",
    "   # model.add(MaxPooling2D((2,2)))\n",
    "\n",
    "   # model.add(Conv2D(128 , (3,3), activation = 'relu'))\n",
    "   # model.add(MaxPooling2D((2,2)))\n",
    "\n",
    "    model.add(Flatten())\n",
    "    model.add(Dense(32, activation = 'relu'))\n",
    "    model.add(Dense(3, activation = 'sigmoid'))\n",
    "\n",
    "    epochs = 100\n",
    "    lrate = 0.01\n",
    "    decay = lrate/epochs\n",
    "    sgd = SGD(learning_rate=lrate, momentum=0.9, decay=decay, nesterov=False)\n",
    "    model.compile(loss='categorical_crossentropy', optimizer=sgd, metrics=['accuracy'])\n",
    "    return model\n"
   ]
  },
  {
   "cell_type": "code",
   "execution_count": 5,
   "id": "7afb3c15",
   "metadata": {},
   "outputs": [
    {
     "name": "stdout",
     "output_type": "stream",
     "text": [
      "Model: \"sequential\"\n",
      "_________________________________________________________________\n",
      " Layer (type)                Output Shape              Param #   \n",
      "=================================================================\n",
      " conv2d (Conv2D)             (None, 148, 148, 32)      896       \n",
      "                                                                 \n",
      " dropout (Dropout)           (None, 148, 148, 32)      0         \n",
      "                                                                 \n",
      " conv2d_1 (Conv2D)           (None, 146, 146, 64)      18496     \n",
      "                                                                 \n",
      " dropout_1 (Dropout)         (None, 146, 146, 64)      0         \n",
      "                                                                 \n",
      " conv2d_2 (Conv2D)           (None, 144, 144, 64)      36928     \n",
      "                                                                 \n",
      " max_pooling2d (MaxPooling2D  (None, 72, 72, 64)       0         \n",
      " )                                                               \n",
      "                                                                 \n",
      " flatten (Flatten)           (None, 331776)            0         \n",
      "                                                                 \n",
      " dense (Dense)               (None, 32)                10616864  \n",
      "                                                                 \n",
      " dense_1 (Dense)             (None, 3)                 99        \n",
      "                                                                 \n",
      "=================================================================\n",
      "Total params: 10,673,283\n",
      "Trainable params: 10,673,283\n",
      "Non-trainable params: 0\n",
      "_________________________________________________________________\n",
      "None\n"
     ]
    }
   ],
   "source": [
    "model=CNN_model()\n",
    "print(model.summary())"
   ]
  },
  {
   "cell_type": "code",
   "execution_count": null,
   "id": "6e8f27f5",
   "metadata": {},
   "outputs": [
    {
     "name": "stdout",
     "output_type": "stream",
     "text": [
      "Epoch 1/10\n"
     ]
    }
   ],
   "source": [
    "model.fit(X_train,y_train,validation_data=(X_test,y_test), epochs = 10 , batch_size = 200 )"
   ]
  },
  {
   "cell_type": "markdown",
   "id": "071c4397",
   "metadata": {},
   "source": [
    "model.evaluate(X_train,y_traion"
   ]
  },
  {
   "cell_type": "code",
   "execution_count": null,
   "id": "6e7bb3a3",
   "metadata": {},
   "outputs": [],
   "source": []
  }
 ],
 "metadata": {
  "kernelspec": {
   "display_name": "Python 3 (ipykernel)",
   "language": "python",
   "name": "python3"
  },
  "language_info": {
   "codemirror_mode": {
    "name": "ipython",
    "version": 3
   },
   "file_extension": ".py",
   "mimetype": "text/x-python",
   "name": "python",
   "nbconvert_exporter": "python",
   "pygments_lexer": "ipython3",
   "version": "3.9.7"
  }
 },
 "nbformat": 4,
 "nbformat_minor": 5
}
